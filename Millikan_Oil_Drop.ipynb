{
  "nbformat": 4,
  "nbformat_minor": 0,
  "metadata": {
    "colab": {
      "provenance": []
    },
    "kernelspec": {
      "name": "python3",
      "display_name": "Python 3"
    },
    "language_info": {
      "name": "python"
    }
  },
  "cells": [
    {
      "cell_type": "markdown",
      "source": [],
      "metadata": {
        "id": "WY1pGyp0ccSK"
      }
    },
    {
      "cell_type": "code",
      "execution_count": null,
      "metadata": {
        "id": "Mj8_ZB68cauR"
      },
      "outputs": [],
      "source": [
        "import numpy as np\n",
        "import matplotlib.pyplot as plt"
      ]
    },
    {
      "cell_type": "code",
      "source": [
        "# Constants\n",
        "q_e = 1.6e-19      # Charge of an electron [C]\n",
        "d = 0.00766        # separation of the plates in the droplet viewing chamber [m]\n",
        "rho = 886          # density of oil [kg/m^3]\n",
        "g = 9.8            # acceleration of gravity [m/s^2]\n",
        "eta = 1.8320e-5    # viscosity of air in [N•s / m^2]\n",
        "b = 8.20e-3        # constant, equal to 8.20 x 10-3 [Pa • m]\n",
        "p = 101325         # barometric pressure [Pa]\n",
        "V = 500            # potential difference across the plates [V]\n",
        "\n",
        "# Lists for Input and Outputs - velocity of fall [m/s], velocity of rise [m/s], calculated charges [C], integer multiple of q_e, Drop Name\n",
        "v_f,v_r,charge,multi,Name = [None]*8,[None]*8,[None]*8,[None]*8,[None]*8\n",
        "\n",
        "# Measured Data and label, Averaged rise and fall velocities\n",
        "v_r[0],v_f[0],Name[0]=0.00005686125853,0.00002582496413,\"Drop 1\"\n",
        "v_r[1],v_f[1],Name[1]=0.0001653065969,0.00001705087983,\"Drop 2\"\n",
        "v_r[2],v_f[2],Name[2]=0.0001484834123,0.00002040316657,\"Drop 3\"\n",
        "v_r[3],v_f[3],Name[3]=0.0001226993865,0.00001224739743,\"Drop 4\"\n",
        "v_r[4],v_f[4],Name[4]=0.0000852049986, 0.00003351655718,\"Drop 5\"\n",
        "v_r[5],v_f[5],Name[5]=0.00006438761498,0.00001940617116,\"Drop 5 (I)\" # Ionized\n",
        "v_r[6],v_f[6],Name[6]=0.0001856635672, 0.00004099704821,\"Drop 6\"\n",
        "v_r[7],v_f[7],Name[7]=0.00007771215418, 0.00003806333739,\"Drop 7\""
      ],
      "metadata": {
        "id": "WR375KhTcf9R"
      },
      "execution_count": null,
      "outputs": []
    },
    {
      "cell_type": "code",
      "source": [
        "# Data Evaluation\n",
        "Est_q = [None]*8\n",
        "print(\"Drop Charges\")\n",
        "for i in range(0,8):\n",
        "    charge[i] = ((4*np.pi)/3)*(np.sqrt((b/(2*p))**2+((9*eta*v_f[i])/(2*rho*g)))-(b/(2*p)))**3*((rho*9.8*d*(v_f[i]+v_r[i]))/(V*v_f[i])) # Equation (14) Handout\n",
        "    multi[i] = charge[i]/q_e      # Divided by the Charge of an electron\n",
        "    Est_q[i] = multi[i]/round(multi[i])\n",
        "    print(Name[i],\" Charge : \",round(multi[i],2),\"e\")"
      ],
      "metadata": {
        "colab": {
          "base_uri": "https://localhost:8080/"
        },
        "id": "CL4u6FrLckUt",
        "outputId": "b6ea2c2b-13b9-45ac-cb90-fc79ca9e4449"
      },
      "execution_count": null,
      "outputs": [
        {
          "output_type": "stream",
          "name": "stdout",
          "text": [
            "Drop Charges\n",
            "Drop 1  Charge :  1.06 e\n",
            "Drop 2  Charge :  1.8 e\n",
            "Drop 3  Charge :  1.87 e\n",
            "Drop 4  Charge :  1.07 e\n",
            "Drop 5  Charge :  1.79 e\n",
            "Drop 5 (I)  Charge :  0.9 e\n",
            "Drop 6  Charge :  3.85 e\n",
            "Drop 7  Charge :  1.88 e\n"
          ]
        }
      ]
    },
    {
      "cell_type": "code",
      "source": [
        "# Data Plot\n",
        "y = [1,2,3,4,5,6,7,8]\n",
        "fig, ax = plt.subplots()\n",
        "ax.scatter(y,Est_q)\n",
        "ax.axhline(y=1) # Adding Horziontal Reference Line\n",
        "plt.title(\"Comparing to Expected Value\")\n",
        "plt.ylabel(\"e/1.6e-19\")\n",
        "plt.xticks([])\n",
        "for i, txt in enumerate(Name):   # Labelling Individual Points\n",
        "    ax.annotate(txt, (y[i], Est_q[i]))"
      ],
      "metadata": {
        "colab": {
          "base_uri": "https://localhost:8080/",
          "height": 428
        },
        "id": "e52VFabywM8J",
        "outputId": "93a2594b-da7b-46fc-8c3f-3fa1f7318044"
      },
      "execution_count": null,
      "outputs": [
        {
          "output_type": "display_data",
          "data": {
            "text/plain": [
              "<Figure size 640x480 with 1 Axes>"
            ],
            "image/png": "[encoded data removed]"
          },
          "metadata": {}
        }
      ]
    },
    {
      "cell_type": "code",
      "source": [
        "# Data Analysis\n",
        "  # Percentage Diff\n",
        "print(\"Derived values % Difference\")\n",
        "for x in range(0,8):\n",
        "  calc = 200*(abs(Est_q[x]-1))/(1+Est_q[x]) # % diff = 100 x (|A-B|)/((A+B)/2)\n",
        "  print(Name[x],\":\",round(calc,1))"
      ],
      "metadata": {
        "colab": {
          "base_uri": "https://localhost:8080/"
        },
        "id": "7v9yqwT6wOhO",
        "outputId": "17c82678-4bce-4cf8-f77e-ea80e761abd2"
      },
      "execution_count": null,
      "outputs": [
        {
          "output_type": "stream",
          "name": "stdout",
          "text": [
            "Derived values % Difference\n",
            "Drop 1 : 5.8\n",
            "Drop 2 : 10.8\n",
            "Drop 3 : 6.9\n",
            "Drop 4 : 6.5\n",
            "Drop 5 : 11.3\n",
            "Drop 5 (I) : 10.9\n",
            "Drop 6 : 3.8\n",
            "Drop 7 : 6.1\n"
          ]
        }
      ]
    },
    {
      "cell_type": "code",
      "source": [
        "#Uncertainity Calculation\n",
        "\n",
        "#Stopwatch Measurement Uncertainity = 0.2 sec\n",
        "\n",
        "#Velocity Uncertianities\n",
        "Δv_r,Δv_f=[None]*8,[None]*8\n",
        "Δv_r[0],Δv_f[0]= 6.47E-10,1.33E-10\n",
        "Δv_r[1],Δv_f[1]= 4.22E-09,5.81E-11\n",
        "Δv_r[2],Δv_f[2]= 2.81E-09,8.33E-11\n",
        "Δv_r[3],Δv_f[3]= 3.01E-09,3.00E-11\n",
        "Δv_r[4],Δv_f[4]= 9.86E-10,2.25E-10\n",
        "Δv_r[5],Δv_f[5]= 2.10E-10,7.53E-11\n",
        "Δv_r[6],Δv_f[6]= 2.23E-09,3.36E-10\n",
        "Δv_r[7],Δv_f[7]= 1.21E-09,2.90E-10\n",
        "\n",
        "#Charge Uncertainity Calculation\n",
        "print(\"Oil Drop Charges (with uncertainities)\")\n",
        "for i in range(0,8):\n",
        "  q_1 = rho*g*d/V*((v_r[i]+v_f[i])/v_f[i])                      # rho*g*d/V(v_r+v_f/v_f)\n",
        "  Δq_1=q_1*((Δv_f[i]+Δv_r[i])/(v_f[i]+v_r[i])+Δv_f[i]/v_f[i])   # Uncerntainity of rho*g*d/V(v_r+v_f/v_f)\n",
        "\n",
        "  q_2 = ((9*eta*v_f[i]/(2*rho*g))**(3/2))                       # ((9*eta/(2*rho*g))v_f)^3/2\n",
        "  Δq_2=q_2*((3*Δv_f[i])/(2*v_f[i]))                             # Uncerntainity of the ((9*eta/(2*rho*g))v_f)^3/2\n",
        "\n",
        "  Δq = (4*np.pi/3)*q1*q2*(Δq_1/q_1+Δq_2/q_2)\n",
        "  print(Name[i],\":\",round(multi[i],3),\"±\",'{:.2e}'.format(Δq/q_e),\"e\")"
      ],
      "metadata": {
        "colab": {
          "base_uri": "https://localhost:8080/"
        },
        "id": "MWuA6f_BxZDS",
        "outputId": "6706411a-a1a7-4c1a-e79f-9aae5b66432e"
      },
      "execution_count": null,
      "outputs": [
        {
          "output_type": "stream",
          "name": "stdout",
          "text": [
            "Oil Drop Charges (with uncertainities)\n",
            "Drop 1 : 1.06 ± 5.13e-05 e\n",
            "Drop 2 : 1.795 ± 7.36e-05 e\n",
            "Drop 3 : 1.866 ± 6.29e-05 e\n",
            "Drop 4 : 1.067 ± 6.59e-05 e\n",
            "Drop 5 : 1.786 ± 6.21e-05 e\n",
            "Drop 5 (I) : 0.897 ± 3.02e-05 e\n",
            "Drop 6 : 3.85 ± 7.32e-05 e\n",
            "Drop 7 : 1.881 ± 7.36e-05 e\n"
          ]
        }
      ]
    }
  ]
}